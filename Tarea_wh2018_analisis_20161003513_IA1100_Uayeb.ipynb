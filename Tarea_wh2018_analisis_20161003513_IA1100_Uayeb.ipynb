{
 "cells": [
  {
   "cell_type": "code",
   "execution_count": 7,
   "id": "b107176c-f371-4c50-9d03-dada6ce40e11",
   "metadata": {},
   "outputs": [],
   "source": [
    "import pandas as pd\n",
    "import numpy as np\n",
    "import seaborn as sns\n",
    "import matplotlib.pyplot as plt"
   ]
  },
  {
   "cell_type": "code",
   "execution_count": 2,
   "id": "b642ad9f-a541-4f38-9dd3-8ba98c0c5790",
   "metadata": {},
   "outputs": [],
   "source": [
    "wh2018 = pd.read_csv('2018_v2.csv')"
   ]
  },
  {
   "cell_type": "code",
   "execution_count": 3,
   "id": "ab730eca-a398-49c6-8d2f-4d2297e083a7",
   "metadata": {},
   "outputs": [
    {
     "data": {
      "text/html": [
       "<div>\n",
       "<style scoped>\n",
       "    .dataframe tbody tr th:only-of-type {\n",
       "        vertical-align: middle;\n",
       "    }\n",
       "\n",
       "    .dataframe tbody tr th {\n",
       "        vertical-align: top;\n",
       "    }\n",
       "\n",
       "    .dataframe thead th {\n",
       "        text-align: right;\n",
       "    }\n",
       "</style>\n",
       "<table border=\"1\" class=\"dataframe\">\n",
       "  <thead>\n",
       "    <tr style=\"text-align: right;\">\n",
       "      <th></th>\n",
       "      <th>Overall rank</th>\n",
       "      <th>Country or region</th>\n",
       "      <th>Score</th>\n",
       "      <th>GDP per capita</th>\n",
       "      <th>Social support</th>\n",
       "      <th>Healthy life expectancy</th>\n",
       "      <th>Freedom to make life choices</th>\n",
       "      <th>Generosity</th>\n",
       "      <th>Perceptions of corruption</th>\n",
       "    </tr>\n",
       "  </thead>\n",
       "  <tbody>\n",
       "    <tr>\n",
       "      <th>0</th>\n",
       "      <td>1</td>\n",
       "      <td>Finland</td>\n",
       "      <td>7.632</td>\n",
       "      <td>1.305</td>\n",
       "      <td>1.592</td>\n",
       "      <td>0.874</td>\n",
       "      <td>0.681</td>\n",
       "      <td>0.202</td>\n",
       "      <td>0.393</td>\n",
       "    </tr>\n",
       "    <tr>\n",
       "      <th>1</th>\n",
       "      <td>2</td>\n",
       "      <td>Norway</td>\n",
       "      <td>7.594</td>\n",
       "      <td>1.456</td>\n",
       "      <td>1.582</td>\n",
       "      <td>0.861</td>\n",
       "      <td>0.686</td>\n",
       "      <td>0.286</td>\n",
       "      <td>0.340</td>\n",
       "    </tr>\n",
       "    <tr>\n",
       "      <th>2</th>\n",
       "      <td>3</td>\n",
       "      <td>Denmark</td>\n",
       "      <td>7.555</td>\n",
       "      <td>1.351</td>\n",
       "      <td>1.590</td>\n",
       "      <td>0.868</td>\n",
       "      <td>0.683</td>\n",
       "      <td>0.284</td>\n",
       "      <td>0.408</td>\n",
       "    </tr>\n",
       "    <tr>\n",
       "      <th>3</th>\n",
       "      <td>4</td>\n",
       "      <td>Iceland</td>\n",
       "      <td>7.495</td>\n",
       "      <td>1.343</td>\n",
       "      <td>NaN</td>\n",
       "      <td>0.914</td>\n",
       "      <td>0.677</td>\n",
       "      <td>NaN</td>\n",
       "      <td>0.138</td>\n",
       "    </tr>\n",
       "    <tr>\n",
       "      <th>4</th>\n",
       "      <td>5</td>\n",
       "      <td>Switzerland</td>\n",
       "      <td>7.487</td>\n",
       "      <td>1.420</td>\n",
       "      <td>1.549</td>\n",
       "      <td>0.927</td>\n",
       "      <td>0.660</td>\n",
       "      <td>0.256</td>\n",
       "      <td>0.357</td>\n",
       "    </tr>\n",
       "    <tr>\n",
       "      <th>...</th>\n",
       "      <td>...</td>\n",
       "      <td>...</td>\n",
       "      <td>...</td>\n",
       "      <td>...</td>\n",
       "      <td>...</td>\n",
       "      <td>...</td>\n",
       "      <td>...</td>\n",
       "      <td>...</td>\n",
       "      <td>...</td>\n",
       "    </tr>\n",
       "    <tr>\n",
       "      <th>151</th>\n",
       "      <td>152</td>\n",
       "      <td>Yemen</td>\n",
       "      <td>3.355</td>\n",
       "      <td>0.442</td>\n",
       "      <td>1.073</td>\n",
       "      <td>0.343</td>\n",
       "      <td>0.244</td>\n",
       "      <td>0.083</td>\n",
       "      <td>NaN</td>\n",
       "    </tr>\n",
       "    <tr>\n",
       "      <th>152</th>\n",
       "      <td>153</td>\n",
       "      <td>Tanzania</td>\n",
       "      <td>3.303</td>\n",
       "      <td>0.455</td>\n",
       "      <td>NaN</td>\n",
       "      <td>0.381</td>\n",
       "      <td>0.481</td>\n",
       "      <td>0.270</td>\n",
       "      <td>0.097</td>\n",
       "    </tr>\n",
       "    <tr>\n",
       "      <th>153</th>\n",
       "      <td>154</td>\n",
       "      <td>South Sudan</td>\n",
       "      <td>3.254</td>\n",
       "      <td>0.337</td>\n",
       "      <td>NaN</td>\n",
       "      <td>0.177</td>\n",
       "      <td>0.112</td>\n",
       "      <td>0.224</td>\n",
       "      <td>0.106</td>\n",
       "    </tr>\n",
       "    <tr>\n",
       "      <th>154</th>\n",
       "      <td>155</td>\n",
       "      <td>Central African Republic</td>\n",
       "      <td>3.083</td>\n",
       "      <td>0.024</td>\n",
       "      <td>0.000</td>\n",
       "      <td>0.010</td>\n",
       "      <td>0.305</td>\n",
       "      <td>0.218</td>\n",
       "      <td>0.038</td>\n",
       "    </tr>\n",
       "    <tr>\n",
       "      <th>155</th>\n",
       "      <td>156</td>\n",
       "      <td>Burundi</td>\n",
       "      <td>2.905</td>\n",
       "      <td>0.091</td>\n",
       "      <td>0.627</td>\n",
       "      <td>0.145</td>\n",
       "      <td>0.065</td>\n",
       "      <td>0.149</td>\n",
       "      <td>0.076</td>\n",
       "    </tr>\n",
       "  </tbody>\n",
       "</table>\n",
       "<p>156 rows × 9 columns</p>\n",
       "</div>"
      ],
      "text/plain": [
       "     Overall rank         Country or region  Score  GDP per capita  \\\n",
       "0               1                   Finland  7.632           1.305   \n",
       "1               2                    Norway  7.594           1.456   \n",
       "2               3                   Denmark  7.555           1.351   \n",
       "3               4                   Iceland  7.495           1.343   \n",
       "4               5               Switzerland  7.487           1.420   \n",
       "..            ...                       ...    ...             ...   \n",
       "151           152                     Yemen  3.355           0.442   \n",
       "152           153                  Tanzania  3.303           0.455   \n",
       "153           154               South Sudan  3.254           0.337   \n",
       "154           155  Central African Republic  3.083           0.024   \n",
       "155           156                   Burundi  2.905           0.091   \n",
       "\n",
       "     Social support  Healthy life expectancy  Freedom to make life choices  \\\n",
       "0             1.592                    0.874                         0.681   \n",
       "1             1.582                    0.861                         0.686   \n",
       "2             1.590                    0.868                         0.683   \n",
       "3               NaN                    0.914                         0.677   \n",
       "4             1.549                    0.927                         0.660   \n",
       "..              ...                      ...                           ...   \n",
       "151           1.073                    0.343                         0.244   \n",
       "152             NaN                    0.381                         0.481   \n",
       "153             NaN                    0.177                         0.112   \n",
       "154           0.000                    0.010                         0.305   \n",
       "155           0.627                    0.145                         0.065   \n",
       "\n",
       "     Generosity  Perceptions of corruption  \n",
       "0         0.202                      0.393  \n",
       "1         0.286                      0.340  \n",
       "2         0.284                      0.408  \n",
       "3           NaN                      0.138  \n",
       "4         0.256                      0.357  \n",
       "..          ...                        ...  \n",
       "151       0.083                        NaN  \n",
       "152       0.270                      0.097  \n",
       "153       0.224                      0.106  \n",
       "154       0.218                      0.038  \n",
       "155       0.149                      0.076  \n",
       "\n",
       "[156 rows x 9 columns]"
      ]
     },
     "execution_count": 3,
     "metadata": {},
     "output_type": "execute_result"
    }
   ],
   "source": [
    "wh2018"
   ]
  },
  {
   "cell_type": "code",
   "execution_count": 15,
   "id": "7086adc4-44e2-4585-8d3f-50588dc4abb3",
   "metadata": {},
   "outputs": [
    {
     "data": {
      "text/html": [
       "<div>\n",
       "<style scoped>\n",
       "    .dataframe tbody tr th:only-of-type {\n",
       "        vertical-align: middle;\n",
       "    }\n",
       "\n",
       "    .dataframe tbody tr th {\n",
       "        vertical-align: top;\n",
       "    }\n",
       "\n",
       "    .dataframe thead th {\n",
       "        text-align: right;\n",
       "    }\n",
       "</style>\n",
       "<table border=\"1\" class=\"dataframe\">\n",
       "  <thead>\n",
       "    <tr style=\"text-align: right;\">\n",
       "      <th></th>\n",
       "      <th>Score</th>\n",
       "      <th>GDP per capita</th>\n",
       "      <th>Social support</th>\n",
       "      <th>Healthy life expectancy</th>\n",
       "      <th>Freedom to make life choices</th>\n",
       "      <th>Generosity</th>\n",
       "      <th>Perceptions of corruption</th>\n",
       "    </tr>\n",
       "  </thead>\n",
       "  <tbody>\n",
       "    <tr>\n",
       "      <th>Score</th>\n",
       "      <td>1.000000</td>\n",
       "      <td>0.803977</td>\n",
       "      <td>0.734447</td>\n",
       "      <td>0.774148</td>\n",
       "      <td>0.550434</td>\n",
       "      <td>0.083639</td>\n",
       "      <td>0.376925</td>\n",
       "    </tr>\n",
       "    <tr>\n",
       "      <th>GDP per capita</th>\n",
       "      <td>0.803977</td>\n",
       "      <td>1.000000</td>\n",
       "      <td>0.664412</td>\n",
       "      <td>0.845862</td>\n",
       "      <td>0.354215</td>\n",
       "      <td>0.009888</td>\n",
       "      <td>0.321384</td>\n",
       "    </tr>\n",
       "    <tr>\n",
       "      <th>Social support</th>\n",
       "      <td>0.734447</td>\n",
       "      <td>0.664412</td>\n",
       "      <td>1.000000</td>\n",
       "      <td>0.653981</td>\n",
       "      <td>0.402598</td>\n",
       "      <td>-0.007957</td>\n",
       "      <td>0.218654</td>\n",
       "    </tr>\n",
       "    <tr>\n",
       "      <th>Healthy life expectancy</th>\n",
       "      <td>0.774148</td>\n",
       "      <td>0.845862</td>\n",
       "      <td>0.653981</td>\n",
       "      <td>1.000000</td>\n",
       "      <td>0.343330</td>\n",
       "      <td>0.033411</td>\n",
       "      <td>0.316596</td>\n",
       "    </tr>\n",
       "    <tr>\n",
       "      <th>Freedom to make life choices</th>\n",
       "      <td>0.550434</td>\n",
       "      <td>0.354215</td>\n",
       "      <td>0.402598</td>\n",
       "      <td>0.343330</td>\n",
       "      <td>1.000000</td>\n",
       "      <td>0.276159</td>\n",
       "      <td>0.478554</td>\n",
       "    </tr>\n",
       "    <tr>\n",
       "      <th>Generosity</th>\n",
       "      <td>0.083639</td>\n",
       "      <td>0.009888</td>\n",
       "      <td>-0.007957</td>\n",
       "      <td>0.033411</td>\n",
       "      <td>0.276159</td>\n",
       "      <td>1.000000</td>\n",
       "      <td>0.368148</td>\n",
       "    </tr>\n",
       "    <tr>\n",
       "      <th>Perceptions of corruption</th>\n",
       "      <td>0.376925</td>\n",
       "      <td>0.321384</td>\n",
       "      <td>0.218654</td>\n",
       "      <td>0.316596</td>\n",
       "      <td>0.478554</td>\n",
       "      <td>0.368148</td>\n",
       "      <td>1.000000</td>\n",
       "    </tr>\n",
       "  </tbody>\n",
       "</table>\n",
       "</div>"
      ],
      "text/plain": [
       "                                 Score  GDP per capita  Social support  \\\n",
       "Score                         1.000000        0.803977        0.734447   \n",
       "GDP per capita                0.803977        1.000000        0.664412   \n",
       "Social support                0.734447        0.664412        1.000000   \n",
       "Healthy life expectancy       0.774148        0.845862        0.653981   \n",
       "Freedom to make life choices  0.550434        0.354215        0.402598   \n",
       "Generosity                    0.083639        0.009888       -0.007957   \n",
       "Perceptions of corruption     0.376925        0.321384        0.218654   \n",
       "\n",
       "                              Healthy life expectancy  \\\n",
       "Score                                        0.774148   \n",
       "GDP per capita                               0.845862   \n",
       "Social support                               0.653981   \n",
       "Healthy life expectancy                      1.000000   \n",
       "Freedom to make life choices                 0.343330   \n",
       "Generosity                                   0.033411   \n",
       "Perceptions of corruption                    0.316596   \n",
       "\n",
       "                              Freedom to make life choices  Generosity  \\\n",
       "Score                                             0.550434    0.083639   \n",
       "GDP per capita                                    0.354215    0.009888   \n",
       "Social support                                    0.402598   -0.007957   \n",
       "Healthy life expectancy                           0.343330    0.033411   \n",
       "Freedom to make life choices                      1.000000    0.276159   \n",
       "Generosity                                        0.276159    1.000000   \n",
       "Perceptions of corruption                         0.478554    0.368148   \n",
       "\n",
       "                              Perceptions of corruption  \n",
       "Score                                          0.376925  \n",
       "GDP per capita                                 0.321384  \n",
       "Social support                                 0.218654  \n",
       "Healthy life expectancy                        0.316596  \n",
       "Freedom to make life choices                   0.478554  \n",
       "Generosity                                     0.368148  \n",
       "Perceptions of corruption                      1.000000  "
      ]
     },
     "execution_count": 15,
     "metadata": {},
     "output_type": "execute_result"
    }
   ],
   "source": [
    "wh2018.loc[:, columns_to_use].corr()"
   ]
  },
  {
   "cell_type": "code",
   "execution_count": 5,
   "id": "a75a2280-627e-45b2-89df-e0e21a6e87e1",
   "metadata": {},
   "outputs": [
    {
     "data": {
      "text/plain": [
       "Index(['Overall rank', 'Country or region', 'Score', 'GDP per capita',\n",
       "       'Social support', 'Healthy life expectancy',\n",
       "       'Freedom to make life choices', 'Generosity',\n",
       "       'Perceptions of corruption'],\n",
       "      dtype='object')"
      ]
     },
     "execution_count": 5,
     "metadata": {},
     "output_type": "execute_result"
    }
   ],
   "source": [
    "wh2018.columns"
   ]
  },
  {
   "cell_type": "code",
   "execution_count": 6,
   "id": "0d8ec33a-d36b-4015-b743-dc0e80b17699",
   "metadata": {},
   "outputs": [],
   "source": [
    "columns_to_use = ['Score', 'GDP per capita',\n",
    "       'Social support', 'Healthy life expectancy',\n",
    "       'Freedom to make life choices', 'Generosity',\n",
    "       'Perceptions of corruption']"
   ]
  },
  {
   "cell_type": "code",
   "execution_count": 8,
   "id": "c2885d6c-0777-459c-95cd-700150aaa9b1",
   "metadata": {},
   "outputs": [],
   "source": [
    "corr_use= wh2018.loc[:, columns_to_use].corr()"
   ]
  },
  {
   "cell_type": "code",
   "execution_count": 9,
   "id": "926b69fa-4ebc-443a-b490-f1a1744ee689",
   "metadata": {},
   "outputs": [
    {
     "data": {
      "text/plain": [
       "<matplotlib.image.AxesImage at 0x1ac5684d310>"
      ]
     },
     "execution_count": 9,
     "metadata": {},
     "output_type": "execute_result"
    },
    {
     "data": {
      "image/png": "[encoded data removed]",
      "text/plain": [
       "<Figure size 288x288 with 1 Axes>"
      ]
     },
     "metadata": {
      "needs_background": "light"
     },
     "output_type": "display_data"
    }
   ],
   "source": [
    "plt.matshow(corr_use)"
   ]
  },
  {
   "cell_type": "code",
   "execution_count": 13,
   "id": "9d97bd50-5617-42b2-8f55-a3eb841dbf59",
   "metadata": {},
   "outputs": [
    {
     "name": "stderr",
     "output_type": "stream",
     "text": [
      "C:\\Users\\Public\\Documents\\Wondershare\\CreatorTemp/ipykernel_3672/2311632149.py:3: DeprecationWarning: `np.bool` is a deprecated alias for the builtin `bool`. To silence this warning, use `bool` by itself. Doing this will not modify any behavior and is safe. If you specifically wanted the numpy scalar type, use `np.bool_` here.\n",
      "Deprecated in NumPy 1.20; for more details and guidance: https://numpy.org/devdocs/release/1.20.0-notes.html#deprecations\n",
      "  sns.heatmap(corr_use, mask=np.zeros_like(corr_use, dtype=np.bool), cmap=sns.diverging_palette(220, 10, as_cmap=True))\n"
     ]
    },
    {
     "data": {
      "text/plain": [
       "<AxesSubplot:>"
      ]
     },
     "execution_count": 13,
     "metadata": {},
     "output_type": "execute_result"
    },
    {
     "data": {
      "image/png": "[encoded data removed]",
      "text/plain": [
       "<Figure size 720x576 with 2 Axes>"
      ]
     },
     "metadata": {
      "needs_background": "light"
     },
     "output_type": "display_data"
    }
   ],
   "source": [
    "f, ax = plt.subplots(figsize=(10, 8))\n",
    "\n",
    "sns.heatmap(corr_use, mask=np.zeros_like(corr_use, dtype=np.bool), cmap=sns.diverging_palette(220, 10, as_cmap=True))"
   ]
  },
  {
   "cell_type": "markdown",
   "id": "864527d7-e993-45b6-8e8e-e2acf3882c17",
   "metadata": {
    "tags": []
   },
   "source": [
    "# Conclusiones a cerca del comportamiento"
   ]
  },
  {
   "cell_type": "markdown",
   "id": "f28f7d1f-6d1d-4925-9adb-12d679936a44",
   "metadata": {},
   "source": [
    "1. No existe ninguna variable que podamos omitir, las que tenemos aportan información.\n",
    "2. GDP per capita es la variable principal que posiciona a los paises en un mejor rango económico, según el resultado de nuestro análisis.\n",
    "3. La Generosidad, no tiene relación significativa con el posicionamiento de un país. Económicamente hablando.\n",
    "4. El apoyo social y la esperanza de vida saludable tienen mucha relación, aportan mucho al posicionamiento de un país porque involucran el funcionamiento de un país, como una sociedad.\n",
    "5. Es curioso que la sociedad aporte para el status de un país, pero que la perecpción sobre la corrupción de sus gobiernos no haga gran aporte... Puede que se de a que estén acostumbrados a tener gente competentes en sus mandatos."
   ]
  },
  {
   "cell_type": "markdown",
   "id": "4b83b7c8-33a3-4229-94cc-18003ee06c7b",
   "metadata": {},
   "source": [
    "# Causalidad"
   ]
  },
  {
   "cell_type": "markdown",
   "id": "72b2ba80-a96a-4bbf-bf57-b1f2da57d6f0",
   "metadata": {},
   "source": [
    "1. El aumento del apoyo social causaría que la esperanza de vida saludable de las personas aumente, sin embargo, que esta última variable aumente, no significaría totalmente que el apoyo social aumente.\n",
    "2. el GDP per Capita podría aumentar (mediante un buen uso) puede causar que el gobierno preste una buena atención social a sus habitantes. Pero el hecho de que aumente o disminuya la capacidad o la intención de un gobierno en apoyar más o menos a la sociedad, no depende del dinero, pues este puede ser usado de distintnas maneras (a veces en fábricas que realmente dañe a la sociedad como sucede en China)\n",
    "3. La libertad para que las personas puedan hacer lo que quieran, causa que socialmente sean más activos, más civilizados, más libres, por tanto más generosos. Sin embargo hay países en los que se tiene poca libertad y las personas también suelen ser generosas (lo que llaman \"humildad\") por lo que la generosidad, no significa que un país sea \"libre\"."
   ]
  }
 ],
 "metadata": {
  "kernelspec": {
   "display_name": "Python 3 (ipykernel)",
   "language": "python",
   "name": "python3"
  },
  "language_info": {
   "codemirror_mode": {
    "name": "ipython",
    "version": 3
   },
   "file_extension": ".py",
   "mimetype": "text/x-python",
   "name": "python",
   "nbconvert_exporter": "python",
   "pygments_lexer": "ipython3",
   "version": "3.9.7"
  }
 },
 "nbformat": 4,
 "nbformat_minor": 5
}
